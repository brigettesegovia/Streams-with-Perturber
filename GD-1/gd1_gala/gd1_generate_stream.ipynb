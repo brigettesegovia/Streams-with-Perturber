{
 "cells": [
  {
   "cell_type": "markdown",
   "id": "10b4d75e-404d-4276-9a3b-4bc2acc38b12",
   "metadata": {},
   "source": [
    "# Particle spray algorithm by Chen et al. (2024) via `gala`\n",
    "\n",
    "Author: Yingtian \"Bill\" Chen\n",
    "\n",
    "We provide a notebook to generate streams using the Chen+24 ([arXiv:2408.01496](https://arxiv.org/abs/2408.01496)) model via `gala`. This implementation has been merged to the main branch of `gala` since version `v1.9`."
   ]
  },
  {
   "cell_type": "code",
   "execution_count": 1,
   "id": "1f511302-e751-4b19-b6da-ca475754324d",
   "metadata": {},
   "outputs": [],
   "source": [
    "import numpy as np\n",
    "import matplotlib as mpl\n",
    "import matplotlib.pyplot as plt\n",
    "from matplotlib.animation import FuncAnimation\n",
    "import astropy.units as u\n",
    "import astropy.coordinates as coord\n",
    "\n",
    "import gala.coordinates as gc\n",
    "import gala.potential as gp\n",
    "import gala.dynamics as gd\n",
    "from gala.dynamics import mockstream as ms\n",
    "from gala.dynamics.nbody import DirectNBody\n",
    "from gala.units import galactic, UnitSystem\n",
    "\n",
    "import pandas as pd\n",
    "\n",
    "import h5py\n",
    "\n",
    "#Reading GD1 data\n",
    "df_desi = pd.read_csv('/Users/bsegovia/Downloads/brigette_code/GD-1/GD-1/All_table_at_fig4b_cleaned_copy.csv')\n"
   ]
  },
  {
   "cell_type": "markdown",
   "id": "5ec9450d-4ad5-4097-8769-86e5fc81482d",
   "metadata": {},
   "source": [
    "### Generate streams!\n",
    "\n",
    "Here is the case of backward integration, which is more commonly used for stream modeling. But you can do forward integration by simply fliping the sign of `dt`."
   ]
  },
  {
   "cell_type": "markdown",
   "id": "9ec702b1-10ce-4482-b2c3-66eb9a18adbc",
   "metadata": {},
   "source": [
    "Specifics on run() : [https://gala.adrian.pw/en/latest/api/gala.dynamics.mockstream.MockStreamGenerator.html#gala.dynamics.mockstream.MockStreamGenerator.run ] \n",
    "\n",
    "Specifics on nbody : \n",
    "[https://gala.adrian.pw/en/latest/dynamics/nbody.html ]"
   ]
  },
  {
   "cell_type": "markdown",
   "id": "12071449",
   "metadata": {},
   "source": [
    "#### Calculate a more realistic radius of the perturber/subhalo"
   ]
  },
  {
   "cell_type": "code",
   "execution_count": 2,
   "id": "f4375558",
   "metadata": {},
   "outputs": [
    {
     "data": {
      "text/latex": [
       "$722.26347 \\; \\mathrm{pc}$"
      ],
      "text/plain": [
       "<Quantity 722.26346645 pc>"
      ]
     },
     "execution_count": 2,
     "metadata": {},
     "output_type": "execute_result"
    }
   ],
   "source": [
    "# CALCULATION for a more realistic radius of the perturber/subhalo \n",
    "# Defining constants \n",
    "c_o = 19.9 \n",
    "a = [-0.195, 0.089, 0.089]\n",
    "b = -0.54\n",
    "x_sub = 1\n",
    "rho_c = 8.5 * 10**(-27) * (u.kg/u.m**3) #kg/m^3\n",
    "h = 0.7 #normalized hubble parameter \n",
    "\n",
    "m_200 = 1e7 * u.Msun # using only one value for now \n",
    "\n",
    "#Calculating r_200 \n",
    "r_200 = (m_200 * (3/(4*np.pi))*(1/rho_c))**(1/3)\n",
    "\n",
    "#Calculating c_200 \n",
    "term = 0 \n",
    "for i in range(len(a)):\n",
    "    term +=   (a[i]*np.log(m_200 / (1e8 * h * u.Msun) ) )**i\n",
    "c_200 = c_o * (1 + term) * (1 + b*np.log(x_sub))\n",
    "\n",
    "#calculating radius of the perturber\n",
    "r_s = r_200/c_200\n",
    "\n",
    "c = r_s.to(u.pc)\n",
    "c"
   ]
  },
  {
   "cell_type": "markdown",
   "id": "4dd0c0ae",
   "metadata": {},
   "source": [
    "#### Calculate the Escape Velocity\n",
    "[https://docs.galpy.org/en/v1.7.2/reference/potentialhernquist.html] [https://gala.adrian.pw/en/latest/api/gala.potential.potential.HernquistPotential.html]"
   ]
  },
  {
   "cell_type": "code",
   "execution_count": 3,
   "id": "eaca70bb",
   "metadata": {},
   "outputs": [
    {
     "name": "stdout",
     "output_type": "stream",
     "text": [
      "Escape velocity at r = 722.26346645077 pc: [17.25510962] km / s\n"
     ]
    }
   ],
   "source": [
    "# Define parameters for the Plummer potential (progenitor)\n",
    "\n",
    "perturber_mass = 5e7 * u.Msun\n",
    "\n",
    "#calculating radius of the perturber\n",
    "r_s = r_200/c_200\n",
    "r = r_s.to(u.pc)  # Make sure it's in units compatible with your potential's normalization\n",
    "\n",
    "# Initialize the Plummer potential for the progenitor\n",
    "pert_pot_for_vesc = gp.HernquistPotential(m=perturber_mass, c=r_s.to(u.kpc) , units=galactic) #DM\n",
    "\n",
    "# Convert position to galactic units (normalize by galactic scale)\n",
    "r_dimensionless = (r / galactic['length']).decompose()\n",
    "\n",
    "# Calculate the potential energy at radius r (3D position in dimensionless units)\n",
    "potential_at_r = pert_pot_for_vesc.energy([r_dimensionless, 0, 0])\n",
    "\n",
    "# Calculate escape velocity using v_esc = sqrt(-2 * Phi(r))\n",
    "v_esc = np.sqrt(-2 * potential_at_r)\n",
    "\n",
    "# Output escape velocity (in km/s)\n",
    "print(f\"Escape velocity at r = {r}: {v_esc.to(u.km/u.s)}\")"
   ]
  },
  {
   "cell_type": "markdown",
   "id": "a690e04a",
   "metadata": {},
   "source": [
    "### Set up galactic potential and initial conditions of the progenitor and the perturber (DM subhalo)\n",
    "\n",
    "Here, we use the `MWPotential2014` potential by Bovy (2015)."
   ]
  },
  {
   "cell_type": "code",
   "execution_count": 4,
   "id": "11d4a4a5",
   "metadata": {},
   "outputs": [],
   "source": [
    "# pot = gp.BovyMWPotential2014(units=galactic)\n",
    "pot = gp.CCompositePotential()\n",
    "pot['hernquist'] = gp.HernquistPotential(m=0.6E10*u.Msun, c=0.7*u.kpc, units=galactic)\n",
    "pot['MNdisk'] = gp.MiyamotoNagaiPotential(m=5E10*u.Msun, a=3*u.kpc, b=0.26*u.kpc, units=galactic)\n",
    "pot['LSNFW'] = gp.LeeSutoTriaxialNFWPotential(v_c=220.*u.km/u.s, r_s=20.*u.kpc, a=1, b=1., c=0.87, units=galactic)\n",
    "\n",
    "static_frame = gp.StaticFrame(galactic) #new addition\n",
    "H = gp.Hamiltonian(potential=pot, frame=static_frame)\n",
    "\n",
    "\n",
    "# Gaia coordinates of GD1 core IC in Standard Galactic Cartesian coordinates (from Koposov et al 2010):\n",
    "prog_w0 = gd.PhaseSpacePosition(pos=[-3.41,13.00,9.58]*u.kpc,\n",
    "                           vel=[-200.4,-162.6,13.9]*u.km/u.s)\n",
    "prog_mass = 1e5 * u.Msun #monicas is 1e4 mine is 1e5\n",
    "\n",
    "\n",
    "# #Define DM subhalo information\n",
    "perturber_w0 = gd.PhaseSpacePosition(pos=[-4.41,13.00,9.58]*u.kpc,\n",
    "                           vel=[-209.025,-162.6,13.9]*u.km/u.s) #-195.4 ; now using 1/2 of the calculated v_esc\n",
    "perturber_mass = 5e7 * u.Msun\n",
    "\n",
    "#Define the combined initial conditions\n",
    "w0_combined = gd.combine((prog_w0, perturber_w0))"
   ]
  },
  {
   "cell_type": "markdown",
   "id": "df6bea13",
   "metadata": {},
   "source": [
    "#### Calculate the Potential"
   ]
  },
  {
   "cell_type": "code",
   "execution_count": 5,
   "id": "f9d8e49f-e33d-43e6-b793-e33929265b6d",
   "metadata": {},
   "outputs": [],
   "source": [
    "#Potentials \n",
    "prog_pot = gp.PlummerPotential(m=prog_mass, b=4*u.pc, units=galactic) #progenitor monica uses b=.3*u.kpc\n",
    "perturber_pot = gp.HernquistPotential(m=perturber_mass, c=r_s.to(u.kpc) , units=galactic) #DM\n",
    "\n",
    "tot_pot = [prog_pot, perturber_pot]"
   ]
  },
  {
   "cell_type": "code",
   "execution_count": 6,
   "id": "a2f4404c-da86-4968-a04a-2cf23eb076de",
   "metadata": {},
   "outputs": [],
   "source": [
    "perturber = gd.DirectNBody(perturber_w0, [perturber_pot], external_potential=pot)"
   ]
  },
  {
   "cell_type": "code",
   "execution_count": 7,
   "id": "e1e2b6dd-14bf-4f21-b3f8-ef09826e69ff",
   "metadata": {},
   "outputs": [],
   "source": [
    "df = ms.ChenStreamDF()\n",
    "gen = ms.MockStreamGenerator(df, H, progenitor_potential=prog_pot) #there's no more arguments here\n",
    "\n",
    "#nbody=nbody of DM because this is how many other objects can affect the stream\n",
    "\n",
    "#release every 10 instead of 1 (monicas code uses 10)\n",
    "stream, prog = gen.run(prog_w0=prog_w0, prog_mass=prog_mass, nbody=perturber, \n",
    "                                 release_every=5, n_particles=1, \n",
    "                                 output_every=True, output_filename='snapshot_files/snapshots', check_filesize=True, overwrite=True, \n",
    "                                 progress=False, dt=-5*u.Myr, n_steps=1000)#[source] #before was - 10 myr\n",
    "                                                            # a value of 50000 n steps was taking over four minutes to run \n",
    "\n",
    "#release every 5, release particles every 5 time steps , n_particles is how many particles you release at every time step \n",
    "#A fixed timestep dt and a number of steps to run for (n_step). \n"
   ]
  },
  {
   "cell_type": "code",
   "execution_count": 8,
   "id": "37fd235f",
   "metadata": {},
   "outputs": [
    {
     "name": "stdout",
     "output_type": "stream",
     "text": [
      "The maximum distance in the x direction is 10.07023291116783 kpc and in the y direction is 18.33331196919257 kpc\n"
     ]
    }
   ],
   "source": [
    "# maximum distance in x and y direction of the stream\n",
    "stream_dx = stream.x.max()\n",
    "stream_dy = stream.y.max()\n",
    "print(f'The maximum distance in the x direction is {stream_dx} and in the y direction is {stream_dy}')"
   ]
  },
  {
   "cell_type": "markdown",
   "id": "a47e32f0",
   "metadata": {},
   "source": [
    "### Generate the movie!"
   ]
  },
  {
   "cell_type": "code",
   "execution_count": 9,
   "id": "541dc9a1",
   "metadata": {},
   "outputs": [
    {
     "data": {
      "image/png": "[encoded data removed]",
      "text/plain": [
       "<Figure size 640x480 with 1 Axes>"
      ]
     },
     "metadata": {},
     "output_type": "display_data"
    }
   ],
   "source": [
    "\n",
    "# Generate a movie using all_streams and all_progs\n",
    "# Load the HDF5 file\n",
    "with h5py.File('snapshot_files/snapshots', 'r') as f:\n",
    "    # Load the position and time data for the progenitor and stream\n",
    "    # prog_pos = f['nbody/pos'][:]  # Progenitor positions, shape (3, 501, 2)\n",
    "    prog_pos = f['nbody/pos'][:,:,0]\n",
    "    perturber_pos = f['nbody/pos'][:,:,1]\n",
    "    stream_pos = f['stream/pos'][:]  # Stream positions, shape (3, 501, 1002)\n",
    "    time_data = f['nbody/time'][:]  # Time steps, shape (501,)\n",
    "\n",
    "# Create a figure for the animation\n",
    "fig, ax = plt.subplots()\n",
    "\n",
    "# Initialize scatter plots for progenitor and stream\n",
    "prog_scatter = ax.scatter([], [], color='steelblue', s=10, alpha=1, label = 'Progenitor')\n",
    "perturber_scatter = ax.scatter([], [], color='black', s=10, alpha=1, label = 'DM Subhalo')\n",
    "stream_scatter = ax.scatter([], [], color='steelblue', s=1, alpha=0.5)\n",
    "\n",
    "# Set plot labels and aspect ratio\n",
    "ax.set_xlabel(r'$x\\ ({\\rm kpc})$')\n",
    "ax.set_ylabel(r'$y\\ ({\\rm kpc})$')\n",
    "ax.set_xlim(-11,11)\n",
    "ax.set_ylim(-19,19)\n",
    "ax.set_aspect(1)\n",
    "ax.legend(loc='lower left')\n",
    "\n",
    "# Set the limits for the x and y axes\n",
    "ax.set_xlim(-50, 70) #(-50, 50)\n",
    "ax.set_ylim(-50, 50) #(-50, 50)\n",
    "\n",
    "# Update function for each frame in the animation\n",
    "def update(frame):\n",
    "    # Clear previous scatter points\n",
    "    # prog_scatter.set_offsets(prog_pos[:2, frame, :].T)\n",
    "    prog_scatter.set_offsets(prog_pos[:2, frame].T)\n",
    "    perturber_scatter.set_offsets(perturber_pos[:2, frame].T)\n",
    "    stream_scatter.set_offsets(stream_pos[:2, frame, :].T)\n",
    "\n",
    "    ax.set_title(f\"Time: {time_data[frame]:.2f} Myr\")\n",
    "\n",
    "# Create the animation\n",
    "ani = FuncAnimation(fig, update, frames=len(time_data), interval=50)\n",
    "\n",
    "# Save the animation as a video file\n",
    "ani.save('movies/with_perturber_comp_pot_NEW_TEST.mp4', writer='ffmpeg')\n",
    "# Show the plot\n",
    "plt.show()"
   ]
  },
  {
   "cell_type": "code",
   "execution_count": 10,
   "id": "f90b488d-89e9-4c3a-b39c-600edb752f78",
   "metadata": {},
   "outputs": [],
   "source": [
    "#used for color\n",
    "stream_icrs_color = stream.to_coord_frame(coord.ICRS())\n",
    "gd1_sim_color = stream_icrs_color.transform_to(gc.GD1Koposov10())\n"
   ]
  },
  {
   "cell_type": "code",
   "execution_count": 11,
   "id": "3019ed49-e328-466a-a6e1-0b3385429ad5",
   "metadata": {},
   "outputs": [
    {
     "data": {
      "image/png": "[encoded data removed]",
      "text/plain": [
       "<Figure size 640x480 with 1 Axes>"
      ]
     },
     "metadata": {},
     "output_type": "display_data"
    }
   ],
   "source": [
    "plt.scatter(prog.pos.x.value[0], prog.pos.y.value[0], color='steelblue', s=11, alpha=1, label = 'Progenitor')\n",
    "plt.scatter(prog.pos.x.value[1], prog.pos.y.value[1], color='black', s=10, alpha=1, label = 'DM Subhalo')\n",
    "plt.scatter(stream.pos.x.value, stream.pos.y.value, c=gd1_sim_color.radial_velocity.to_value('km/s'), s=0.5, alpha=1) #, label='With perturber')\n",
    "\n",
    "plt.xlabel(r'$x\\ ({\\rm kpc})$')\n",
    "plt.ylabel(r'$y\\ ({\\rm kpc})$')\n",
    "# plt.xlim(-25, 50)\n",
    "# plt.ylim(-20, 30)\n",
    "plt.legend(loc='lower left')\n",
    "plt.gca().set_aspect(1)\n",
    "plt.show()"
   ]
  },
  {
   "cell_type": "code",
   "execution_count": 12,
   "id": "c80ce0d3-6e25-47f2-ae83-66decd25c67c",
   "metadata": {},
   "outputs": [],
   "source": [
    "stream_icrs = stream.to_coord_frame(coord.ICRS())\n",
    "prog_icrs = prog.to_coord_frame(coord.ICRS())\n",
    "stream_gc = stream.to_coord_frame(coord.Galactic())\n",
    "prog_gc = stream.to_coord_frame(coord.Galactic())"
   ]
  },
  {
   "cell_type": "code",
   "execution_count": 13,
   "id": "fe7bad9c-8bec-408f-bf1f-3dcd940f51ad",
   "metadata": {},
   "outputs": [
    {
     "data": {
      "text/plain": [
       "<matplotlib.colorbar.Colorbar at 0x16841c890>"
      ]
     },
     "execution_count": 13,
     "metadata": {},
     "output_type": "execute_result"
    },
    {
     "data": {
      "image/png": "[encoded data removed]",
      "text/plain": [
       "<Figure size 1100x300 with 2 Axes>"
      ]
     },
     "metadata": {},
     "output_type": "display_data"
    }
   ],
   "source": [
    "# ------- Figure object --------------------------------------------------------\n",
    "fig = plt.figure()\n",
    "fig.set_figheight(3) \n",
    "fig.set_figwidth(11)\n",
    "plt.subplot(111)\n",
    "cs = plt.scatter(\n",
    "    stream_icrs.ra.degree,\n",
    "    stream_icrs.dec.degree,\n",
    "    marker='o', linewidth=0, s=2, \n",
    "    c=stream_icrs.radial_velocity.value, cmap='twilight_shifted')\n",
    "plt.xlabel('RA [deg]')\n",
    "plt.ylabel('Dec [deg]')\n",
    "plt.colorbar(cs)\n",
    "#plt.colorbar(cs)\n",
    "# plt.savefig('trial_stream_cart.png')\n"
   ]
  },
  {
   "cell_type": "code",
   "execution_count": 14,
   "id": "b72e1ccf-4a43-497d-81fa-cd613a4081b3",
   "metadata": {},
   "outputs": [],
   "source": [
    "phi1 = df_desi['phi_1'] * u.rad\n",
    "phi2 = df_desi['phi_2'] * u.rad\n",
    "\n",
    "gd1_sim = stream_icrs.transform_to(gc.GD1Koposov10())"
   ]
  },
  {
   "cell_type": "code",
   "execution_count": 15,
   "id": "d1c864e6-8f87-4de7-ae6d-b81dfe4e1aad",
   "metadata": {},
   "outputs": [
    {
     "name": "stderr",
     "output_type": "stream",
     "text": [
      "/var/folders/6w/4l8xsqjn63b50789db29p6tm0000gr/T/ipykernel_4670/3045742203.py:24: UserWarning: No data for colormapping provided via 'c'. Parameters 'cmap' will be ignored\n",
      "  sc1=ax.scatter(phi1, phi2, color='red', marker='.', s=50, cmap='tab20b',label='Observed')\n"
     ]
    },
    {
     "data": {
      "image/png": "[encoded data removed]",
      "text/plain": [
       "<Figure size 1100x500 with 1 Axes>"
      ]
     },
     "metadata": {},
     "output_type": "display_data"
    }
   ],
   "source": [
    "#sample  scatter plot:\n",
    "# ------- Figure object\n",
    "fig = plt.figure()\n",
    "fig.set_figheight(5)\n",
    "fig.set_figwidth(11)\n",
    "    \n",
    "# ------- Axis object\n",
    "ax = plt.subplot(1,1,1)\n",
    "ax.tick_params(axis='both',which='both',direction='in',\n",
    "                   labelsize=15,right=True,top=True)\n",
    "#ax.xaxis.set_ticks(np.arange(-400,400, step=100.))\n",
    "#ax.yaxis.set_ticks(np.arange(-400,400, step=100.))\n",
    "ax.set_xlabel(r'$\\phi_1$ [deg]',fontsize=20)\n",
    "ax.set_ylabel(r'$\\phi_2$ [deg]',fontsize=20)\n",
    "\n",
    "#ax.set_xlim(-420.,420.)\n",
    "\n",
    "ax.set_ylim(-10.,10.)\n",
    "ax.set_xlim(-90, 5.)\n",
    "ax.scatter(gd1_sim.phi1, gd1_sim.phi2, marker='+', s=50,color='blue', alpha = 0.8, label='simulated')\n",
    "#c=gd1sim_dvel.to_value(u.km / u.s)\n",
    "\n",
    "# ------- Plot\n",
    "sc1=ax.scatter(phi1, phi2, color='red', marker='.', s=50, cmap='tab20b',label='Observed') \n",
    "\n",
    "ax.legend()\n",
    "ax.grid(False)\n",
    "\n",
    "\n",
    "\n",
    "ax.grid(False)\n",
    "fig.tight_layout(pad=3.0)\n",
    "plt.savefig('phi1_phi2_plots/GD1_sim_dat_with_perturber_comp_pot.png')\n",
    "plt.show()\n",
    "plt.close()"
   ]
  },
  {
   "cell_type": "markdown",
   "id": "1ab188c1-e57f-42e9-9377-d0577dc07231",
   "metadata": {},
   "source": [
    "## Looking at Mass Loss of Perturber Over Time\n"
   ]
  },
  {
   "cell_type": "code",
   "execution_count": 16,
   "id": "c0760962",
   "metadata": {},
   "outputs": [],
   "source": [
    "############################################################################################################\n",
    "\n",
    "pot = gp.CCompositePotential()\n",
    "pot['hernquist'] = gp.HernquistPotential(m=0.6E10*u.Msun, c=0.7*u.kpc, units=galactic)\n",
    "pot['MNdisk'] = gp.MiyamotoNagaiPotential(m=5E10*u.Msun, a=3*u.kpc, b=0.26*u.kpc, units=galactic)\n",
    "pot['LSNFW'] = gp.LeeSutoTriaxialNFWPotential(v_c=220.*u.km/u.s, r_s=20.*u.kpc, a=1, b=1., c=0.87, units=galactic)\n",
    "\n",
    "static_frame = gp.StaticFrame(galactic) #new addition\n",
    "H = gp.Hamiltonian(potential=pot, frame=static_frame)\n",
    "\n",
    "\n",
    "# Gaia coordinates of GD1 core IC in Standard Galactic Cartesian coordinates (from Koposov et al 2010):\n",
    "prog_w0 = gd.PhaseSpacePosition(pos=[-3.41,13.00,9.58]*u.kpc,\n",
    "                           vel=[-200.4,-162.6,13.9]*u.km/u.s)\n",
    "prog_mass = 1e5 * u.Msun #monicas is 1e4 mine is 1e5\n",
    "\n",
    "\n",
    "# #Define DM subhalo information\n",
    "perturber_w0 = gd.PhaseSpacePosition(pos=[-4.41,13.00,9.58]*u.kpc,\n",
    "                           vel=[-195.4,-162.6,13.9]*u.km/u.s)\n",
    "perturber_mass = 1e6 * u.Msun\n",
    "\n",
    "#Define the combined initial conditions\n",
    "w0_combined = gd.combine((prog_w0, perturber_w0))\n",
    "\n",
    "\n",
    "############################################################################################################\n",
    "\n",
    "# CALCULATION for a more realistic radius of the perturber/subhalo \n",
    "# Defining constants \n",
    "c_o = 19.9 \n",
    "a = [-0.195, 0.089, 0.089]\n",
    "b = -0.54\n",
    "x_sub = 1\n",
    "rho_c = 8.5 * 10**(-27) * (u.kg/u.m**3) #kg/m^3\n",
    "h = 0.7 #normalized hubble parameter \n",
    "\n",
    "m_200 = 1e7 * u.Msun # using only one value for now \n",
    "\n",
    "#Calculating r_200 \n",
    "r_200 = (m_200 * (3/(4*np.pi))*(1/rho_c))**(1/3)\n",
    "\n",
    "#Calculating c_200 \n",
    "term = 0 \n",
    "for i in range(len(a)):\n",
    "    term +=   (a[i]*np.log(m_200 / (1e8 * h * u.Msun) ) )**i\n",
    "c_200 = c_o * (1 + term) * (1 + b*np.log(x_sub))\n",
    "\n",
    "#calculating radius of the perturber\n",
    "r_s = r_200/c_200\n",
    "\n",
    "c = r_s.to(u.pc)\n",
    "\n",
    "############################################################################################################\n",
    "#Potentials \n",
    "prog_pot = gp.PlummerPotential(m=prog_mass, b=4*u.pc, units=galactic) #progenitor monica uses b=.3*u.kpc\n",
    "#The perturber is represented by a Hernquist (1990) sphere of mass  5×106 Me and scale radius 10 pc. \n",
    "#Its closest approach to GD-1 happened 495 Myr ago with a relative distance of 15 pc,\n",
    "perturber_pot = gp.HernquistPotential(m=perturber_mass, c=r_s.to(u.kpc) , units=galactic) #DM\n",
    "\n",
    "tot_pot = [prog_pot, perturber_pot]\n",
    "\n",
    "perturber = gd.DirectNBody(perturber_w0, [perturber_pot], external_potential=pot)\n",
    "\n",
    "\n",
    "pot = gp.CCompositePotential()\n",
    "pot['hernquist'] = gp.HernquistPotential(m=0.6E10*u.Msun, c=0.7*u.kpc, units=galactic)\n",
    "pot['MNdisk'] = gp.MiyamotoNagaiPotential(m=5E10*u.Msun, a=3*u.kpc, b=0.26*u.kpc, units=galactic)\n",
    "pot['LSNFW'] = gp.LeeSutoTriaxialNFWPotential(v_c=220.*u.km/u.s, r_s=20.*u.kpc, a=1, b=1., c=0.87, units=galactic)\n",
    "\n",
    "static_frame = gp.StaticFrame(galactic) #new addition\n",
    "H = gp.Hamiltonian(potential=pot, frame=static_frame)\n",
    "\n",
    "\n",
    "# Gaia coordinates of GD1 core IC in Standard Galactic Cartesian coordinates (from Koposov et al 2010):\n",
    "prog_w0 = gd.PhaseSpacePosition(pos=[-3.41,13.00,9.58]*u.kpc,\n",
    "                           vel=[-200.4,-162.6,13.9]*u.km/u.s)\n",
    "prog_mass = 1e5 * u.Msun #monicas is 1e4 mine is 1e5\n",
    "\n",
    "\n",
    "# #Define DM subhalo information\n",
    "perturber_w0 = gd.PhaseSpacePosition(pos=[-4.41,13.00,9.58]*u.kpc,\n",
    "                           vel=[-209.025,-162.6,13.9]*u.km/u.s) #-195.4 ; now using 1/2 of the calculated v_esc\n",
    "perturber_mass = 5e7 * u.Msun\n",
    "\n",
    "#Define the combined initial conditions\n",
    "w0_combined = gd.combine((prog_w0, perturber_w0))"
   ]
  },
  {
   "cell_type": "code",
   "execution_count": 17,
   "id": "61e863aa",
   "metadata": {},
   "outputs": [
    {
     "name": "stdout",
     "output_type": "stream",
     "text": [
      "The stream completes 45 orbits over the given time period.\n"
     ]
    }
   ],
   "source": [
    "#easy way to save 10 % \n",
    "#run the function for the full time step, then save the values at the pericenter \n",
    "# and then run the function again everytime that there is a pericenter, with the exact values of position and velocity BUT only using 10 percent of the initial mass\n",
    "# of the progenitor \n",
    "\n",
    "stream_dist_to_center = np.sqrt(stream.pos.x**2 + stream.pos.y**2 + stream.pos.z**2)\n",
    "abs_min_dist = np.min(stream_dist_to_center)\n",
    "\n",
    "# Calculate the derivative of y with respect to time\n",
    "dy_dt = np.gradient(stream.pos.y.value)\n",
    "\n",
    "# Find indices where the stream crosses the x-axis with a positive slope\n",
    "# Get half of the stream, multiply it by the other half, and if it is negative, then it crossed the x-axis\n",
    "# with a positive slope\n",
    "crossing_indices = np.where((stream.pos.y.value[:-1] * stream.pos.y.value[1:] < 0) & (dy_dt[1:] > 0))[0]\n",
    "\n",
    "#The number of upward crossings is equal to the number of orbits\n",
    "num_orbits = len(crossing_indices)  \n",
    "\n",
    "print(f\"The stream completes {num_orbits} orbits over the given time period.\")"
   ]
  },
  {
   "cell_type": "code",
   "execution_count": 18,
   "id": "01f4ba82",
   "metadata": {},
   "outputs": [
    {
     "name": "stderr",
     "output_type": "stream",
     "text": [
      "/var/folders/6w/4l8xsqjn63b50789db29p6tm0000gr/T/ipykernel_4670/2605715626.py:3: RuntimeWarning: divide by zero encountered in divide\n",
      "  n_steps_function = - n_steps__temp / dt_array.value\n"
     ]
    },
    {
     "data": {
      "text/plain": [
       "array([ 200.        ,  204.65116279,  209.52380952,  214.63414634,\n",
       "        220.        ,  225.64102564,  231.57894737,  237.83783784,\n",
       "        244.44444444,  251.42857143,  258.82352941,  266.66666667,\n",
       "        275.        ,  283.87096774,  293.33333333,  303.44827586,\n",
       "        314.28571429,  325.92592593,  338.46153846,  352.        ,\n",
       "        366.66666667,  382.60869565,  400.        ,  419.04761905,\n",
       "        440.        ,  463.15789474,  488.88888889,  517.64705882,\n",
       "        550.        ,  586.66666667,  628.57142857,  676.92307692,\n",
       "        733.33333333,  800.        ,  880.        ,  977.77777778,\n",
       "       1100.        , 1257.14285714, 1466.66666667, 1760.        ,\n",
       "       2200.        , 2933.33333333, 4400.        , 8800.        ,\n",
       "       8800.        ])"
      ]
     },
     "execution_count": 18,
     "metadata": {},
     "output_type": "execute_result"
    }
   ],
   "source": [
    "dt_array = np.linspace(-5, 0, num_orbits) * u.Myr\n",
    "n_steps__temp = np.ones(num_orbits) * 1000\n",
    "n_steps_function = - n_steps__temp / dt_array.value\n",
    "n_steps_function[-1] = n_steps_function[-2]\n",
    "n_steps_function"
   ]
  },
  {
   "cell_type": "code",
   "execution_count": 19,
   "id": "66ba9138",
   "metadata": {},
   "outputs": [
    {
     "name": "stderr",
     "output_type": "stream",
     "text": [
      "/var/folders/6w/4l8xsqjn63b50789db29p6tm0000gr/T/ipykernel_4670/3272279656.py:44: RuntimeWarning: divide by zero encountered in divide\n",
      "  n_steps_function = - n_steps__temp / dt_array.value\n"
     ]
    },
    {
     "name": "stdout",
     "output_type": "stream",
     "text": [
      "The stream completes 45 orbits over the given time period.\n",
      "Indices of minimum distance (pericenter) for each orbit: [3, 8, 16, 18, 22, 26, 30, 36, 39, 47, 50, 57, 61, 71, 73, 78, 84, 89, 98, 105, 114, 117]\n",
      "Values of minimum distances for each orbit: [<Quantity 13.05282313 kpc>, <Quantity 19.9018501 kpc>, <Quantity 20.29826436 kpc>, <Quantity 20.39686264 kpc>, <Quantity 19.4341416 kpc>, <Quantity 19.1064231 kpc>, <Quantity 19.48672893 kpc>, <Quantity 19.80680153 kpc>, <Quantity 13.08937482 kpc>, <Quantity 13.10255257 kpc>, <Quantity 19.09892861 kpc>, <Quantity 12.9857719 kpc>, <Quantity 13.03298191 kpc>, <Quantity 13.20482924 kpc>, <Quantity 12.98471404 kpc>, <Quantity 18.97025759 kpc>, <Quantity 19.60445895 kpc>, <Quantity 13.2540366 kpc>, <Quantity 18.99755198 kpc>, <Quantity 13.03472427 kpc>, <Quantity 19.06431048 kpc>, <Quantity 13.22210484 kpc>]\n"
     ]
    },
    {
     "ename": "KeyboardInterrupt",
     "evalue": "",
     "output_type": "error",
     "traceback": [
      "\u001b[0;31m---------------------------------------------------------------------------\u001b[0m",
      "\u001b[0;31mKeyboardInterrupt\u001b[0m                         Traceback (most recent call last)",
      "Cell \u001b[0;32mIn[19], line 94\u001b[0m\n\u001b[1;32m     86\u001b[0m     \u001b[38;5;28;01mreturn\u001b[39;00m all_streams, all_progs\n\u001b[1;32m     89\u001b[0m \u001b[38;5;66;03m## ISSUES : The dispersion of the particle is not saved, only the progenitor location is saved, so when movie is restarted, it assumes the stream is less disrupted. \u001b[39;00m\n\u001b[1;32m     90\u001b[0m \u001b[38;5;66;03m#progenitor is taking the position of the DM subhalo, so it is not being updated.\u001b[39;00m\n\u001b[1;32m     91\u001b[0m \u001b[38;5;66;03m## ISSUES : The \u001b[39;00m\n\u001b[1;32m     92\u001b[0m \n\u001b[1;32m     93\u001b[0m \u001b[38;5;66;03m# Run the simulation with restarts\u001b[39;00m\n\u001b[0;32m---> 94\u001b[0m all_streams, all_progs \u001b[38;5;241m=\u001b[39m run_simulation_with_restarts(prog_w0, prog_mass, perturber, H, prog_pot, dt_array, orbit_min_indices, n_steps_function)\n",
      "Cell \u001b[0;32mIn[19], line 70\u001b[0m, in \u001b[0;36mrun_simulation_with_restarts\u001b[0;34m(prog_w0, prog_mass, perturber, H, prog_pot, dt, min_indices, n_steps)\u001b[0m\n\u001b[1;32m     64\u001b[0m perturber_w0 \u001b[38;5;241m=\u001b[39m gd\u001b[38;5;241m.\u001b[39mPhaseSpacePosition(pos\u001b[38;5;241m=\u001b[39mcurrent_perturber_pos,\n\u001b[1;32m     65\u001b[0m                    vel\u001b[38;5;241m=\u001b[39mcurrent_perturber_vel)\n\u001b[1;32m     67\u001b[0m \u001b[38;5;66;03m#Recalculate the potential with the new progenitor mass, and both the new pos and vel for the prog. and pert. \u001b[39;00m\n\u001b[1;32m     68\u001b[0m \n\u001b[1;32m     69\u001b[0m \u001b[38;5;66;03m# Run the simulation\u001b[39;00m\n\u001b[0;32m---> 70\u001b[0m stream, prog \u001b[38;5;241m=\u001b[39m gen\u001b[38;5;241m.\u001b[39mrun(prog_w0\u001b[38;5;241m=\u001b[39mprog_w0, prog_mass\u001b[38;5;241m=\u001b[39mprog_mass, nbody\u001b[38;5;241m=\u001b[39mperturber, \n\u001b[1;32m     71\u001b[0m                        release_every\u001b[38;5;241m=\u001b[39m\u001b[38;5;241m5\u001b[39m, n_particles\u001b[38;5;241m=\u001b[39m\u001b[38;5;241m1\u001b[39m, \n\u001b[1;32m     72\u001b[0m                        output_every\u001b[38;5;241m=\u001b[39m\u001b[38;5;28;01mTrue\u001b[39;00m, output_filename\u001b[38;5;241m=\u001b[39m\u001b[38;5;124mf\u001b[39m\u001b[38;5;124m'\u001b[39m\u001b[38;5;124msnapshot_files/snapshots_UsingFulldt_\u001b[39m\u001b[38;5;132;01m{\u001b[39;00mi\u001b[38;5;132;01m}\u001b[39;00m\u001b[38;5;124m'\u001b[39m, \n\u001b[1;32m     73\u001b[0m                        check_filesize\u001b[38;5;241m=\u001b[39m\u001b[38;5;28;01mTrue\u001b[39;00m, overwrite\u001b[38;5;241m=\u001b[39m\u001b[38;5;28;01mTrue\u001b[39;00m, \n\u001b[1;32m     74\u001b[0m                        progress\u001b[38;5;241m=\u001b[39m\u001b[38;5;28;01mFalse\u001b[39;00m, t1 \u001b[38;5;241m=\u001b[39m dt_array[i], t2\u001b[38;5;241m=\u001b[39mdt_array[i\u001b[38;5;241m+\u001b[39m\u001b[38;5;241m1\u001b[39m], n_steps\u001b[38;5;241m=\u001b[39mn_steps[i])\n\u001b[1;32m     75\u001b[0m                                        \u001b[38;5;66;03m#t2 is end , t1 is start t1=dt_array[i], t2=dt_array[i+1]\u001b[39;00m\n\u001b[1;32m     76\u001b[0m \u001b[38;5;66;03m# Store the results\u001b[39;00m\n\u001b[1;32m     77\u001b[0m all_streams\u001b[38;5;241m.\u001b[39mappend(stream)\n",
      "File \u001b[0;32m/usr/local/anaconda/lib/python3.12/site-packages/gala/dynamics/mockstream/mockstream_generator.py:263\u001b[0m, in \u001b[0;36mMockStreamGenerator.run\u001b[0;34m(self, prog_w0, prog_mass, nbody, release_every, n_particles, output_every, output_filename, check_filesize, overwrite, progress, **time_spec)\u001b[0m\n\u001b[1;32m    257\u001b[0m     \u001b[38;5;28;01mif\u001b[39;00m output_filename \u001b[38;5;129;01mis\u001b[39;00m \u001b[38;5;28;01mNone\u001b[39;00m:\n\u001b[1;32m    258\u001b[0m         \u001b[38;5;28;01mraise\u001b[39;00m \u001b[38;5;167;01mValueError\u001b[39;00m(\n\u001b[1;32m    259\u001b[0m             \u001b[38;5;124m\"\u001b[39m\u001b[38;5;124mIf output_every is specified, you must also pass in a filename to \u001b[39m\u001b[38;5;124m\"\u001b[39m\n\u001b[1;32m    260\u001b[0m             \u001b[38;5;124m\"\u001b[39m\u001b[38;5;124mstore the snapshots in\u001b[39m\u001b[38;5;124m\"\u001b[39m\n\u001b[1;32m    261\u001b[0m         )\n\u001b[0;32m--> 263\u001b[0m     raw_nbody, raw_stream \u001b[38;5;241m=\u001b[39m mockstream_dop853_animate(\n\u001b[1;32m    264\u001b[0m         nbody0,\n\u001b[1;32m    265\u001b[0m         orbit_t,\n\u001b[1;32m    266\u001b[0m         w0,\n\u001b[1;32m    267\u001b[0m         all_nstream\u001b[38;5;241m.\u001b[39mastype(\u001b[38;5;124m\"\u001b[39m\u001b[38;5;124mi4\u001b[39m\u001b[38;5;124m\"\u001b[39m),\n\u001b[1;32m    268\u001b[0m         output_every\u001b[38;5;241m=\u001b[39moutput_every,\n\u001b[1;32m    269\u001b[0m         output_filename\u001b[38;5;241m=\u001b[39moutput_filename,\n\u001b[1;32m    270\u001b[0m         check_filesize\u001b[38;5;241m=\u001b[39mcheck_filesize,\n\u001b[1;32m    271\u001b[0m         overwrite\u001b[38;5;241m=\u001b[39moverwrite,\n\u001b[1;32m    272\u001b[0m         progress\u001b[38;5;241m=\u001b[39m\u001b[38;5;28mint\u001b[39m(progress),\n\u001b[1;32m    273\u001b[0m     )\n\u001b[1;32m    275\u001b[0m x_unit \u001b[38;5;241m=\u001b[39m units[\u001b[38;5;124m\"\u001b[39m\u001b[38;5;124mlength\u001b[39m\u001b[38;5;124m\"\u001b[39m]\n\u001b[1;32m    276\u001b[0m v_unit \u001b[38;5;241m=\u001b[39m units[\u001b[38;5;124m\"\u001b[39m\u001b[38;5;124mlength\u001b[39m\u001b[38;5;124m\"\u001b[39m] \u001b[38;5;241m/\u001b[39m units[\u001b[38;5;124m\"\u001b[39m\u001b[38;5;124mtime\u001b[39m\u001b[38;5;124m\"\u001b[39m]\n",
      "File \u001b[0;32m/usr/local/anaconda/lib/python3.12/site-packages/gala/dynamics/mockstream/mockstream.pyx:180\u001b[0m, in \u001b[0;36mgala.dynamics.mockstream._mockstream.mockstream_dop853_animate\u001b[0;34m()\u001b[0m\n",
      "File \u001b[0;32m/usr/local/anaconda/lib/python3.12/site-packages/gala/dynamics/mockstream/mockstream.pyx:322\u001b[0m, in \u001b[0;36mgala.dynamics.mockstream._mockstream.mockstream_dop853_animate\u001b[0;34m()\u001b[0m\n",
      "File \u001b[0;32mh5py/_objects.pyx:54\u001b[0m, in \u001b[0;36mh5py._objects.with_phil.wrapper\u001b[0;34m()\u001b[0m\n",
      "File \u001b[0;32mh5py/_objects.pyx:55\u001b[0m, in \u001b[0;36mh5py._objects.with_phil.wrapper\u001b[0;34m()\u001b[0m\n",
      "File \u001b[0;32m/usr/local/anaconda/lib/python3.12/site-packages/h5py/_hl/dataset.py:999\u001b[0m, in \u001b[0;36mDataset.__setitem__\u001b[0;34m(self, args, val)\u001b[0m\n\u001b[1;32m    997\u001b[0m mspace \u001b[38;5;241m=\u001b[39m h5s\u001b[38;5;241m.\u001b[39mcreate_simple(selection\u001b[38;5;241m.\u001b[39mexpand_shape(mshape))\n\u001b[1;32m    998\u001b[0m \u001b[38;5;28;01mfor\u001b[39;00m fspace \u001b[38;5;129;01min\u001b[39;00m selection\u001b[38;5;241m.\u001b[39mbroadcast(mshape):\n\u001b[0;32m--> 999\u001b[0m     \u001b[38;5;28mself\u001b[39m\u001b[38;5;241m.\u001b[39mid\u001b[38;5;241m.\u001b[39mwrite(mspace, fspace, val, mtype, dxpl\u001b[38;5;241m=\u001b[39m\u001b[38;5;28mself\u001b[39m\u001b[38;5;241m.\u001b[39m_dxpl)\n",
      "\u001b[0;31mKeyboardInterrupt\u001b[0m: "
     ]
    }
   ],
   "source": [
    "#easy way to save 10 % \n",
    "#run the function for the full time step, then save the values at the pericenter \n",
    "# and then run the function again everytime that there is a pericenter, with the exact values of position and velocity BUT only using 10 percent of the initial mass\n",
    "# of the progenitor \n",
    "\n",
    "stream_dist_to_center = np.sqrt(stream.pos.x**2 + stream.pos.y**2 + stream.pos.z**2)\n",
    "abs_min_dist = np.min(stream_dist_to_center)\n",
    "\n",
    "# Calculate the derivative of y with respect to time\n",
    "dy_dt = np.gradient(stream.pos.y.value)\n",
    "\n",
    "# Find indices where the stream crosses the x-axis with a positive slope\n",
    "# Get half of the stream, multiply it by the other half, and if it is negative, then it crossed the x-axis\n",
    "# with a positive slope\n",
    "crossing_indices = np.where((stream.pos.y.value[:-1] * stream.pos.y.value[1:] < 0) & (dy_dt[1:] > 0))[0]\n",
    "\n",
    "#The number of upward crossings is equal to the number of orbits\n",
    "num_orbits = len(crossing_indices)  \n",
    "\n",
    "print(f\"The stream completes {num_orbits} orbits over the given time period.\")\n",
    "\n",
    "# Identify the minimum values for abs_min_dist in each orbit\n",
    "# Lists to store the indices and values of minimum distances for each orbit\n",
    "orbit_min_indices = []\n",
    "orbit_min_values = []\n",
    "for i in range(len(crossing_indices) // 2):\n",
    "    # Define the range for each orbit\n",
    "    # In crossing_indices, every two consecutive indices represent one full orbit\n",
    "    orbit_start = crossing_indices[2 * i] #this should index the beginning of the orbit\n",
    "    orbit_end = crossing_indices[2 * i + 1] #this should index the end of the orbit\n",
    "    \n",
    "    # Find the minimum value within this orbit range\n",
    "    orbit_min_index = np.argmin(stream_dist_to_center[orbit_start:orbit_end]) + orbit_start\n",
    "    orbit_min_indices.append(orbit_min_index)\n",
    "    orbit_min_values.append(stream_dist_to_center[orbit_min_index])\n",
    "\n",
    "# Print the indices and values of the minimum values for each orbit\n",
    "print(f\"Indices of minimum distance (pericenter) for each orbit: {orbit_min_indices}\")\n",
    "print(f\"Values of minimum distances for each orbit: {orbit_min_values}\")\n",
    "\n",
    "#time step is defined by the number of orbits\n",
    "dt_array = np.linspace(-5, 0, num_orbits) * u.Myr\n",
    "n_steps__temp = np.ones(num_orbits) * 1000\n",
    "n_steps_function = - n_steps__temp / dt_array.value\n",
    "n_steps_function[-1] = n_steps_function[-2]\n",
    "\n",
    "\n",
    "def run_simulation_with_restarts(prog_w0, prog_mass, perturber, H, prog_pot, dt, min_indices, n_steps):\n",
    "    all_streams = []\n",
    "    all_progs = []\n",
    "    \n",
    "    # Start with the initial progenitor and perturber positions/velocities\n",
    "    current_prog_pos = prog_w0.pos\n",
    "    current_prog_vel = prog_w0.vel\n",
    "    current_perturber_pos = prog_w0.pos\n",
    "    current_perturber_vel = prog_w0.vel\n",
    "    \n",
    "    for i in range(len(dt_array)):\n",
    "        # Adjust progenitor mass for this run\n",
    "        current_pert_mass = perturber_mass * (0.9 ** i)\n",
    "        \n",
    "        # Update initial conditions for the next run using the last positions and velocities\n",
    "        prog_w0 = gd.PhaseSpacePosition(pos=current_prog_pos, vel=current_prog_vel)\n",
    "        perturber_w0 = gd.PhaseSpacePosition(pos=current_perturber_pos,\n",
    "                           vel=current_perturber_vel)\n",
    "        \n",
    "        #Recalculate the potential with the new progenitor mass, and both the new pos and vel for the prog. and pert. \n",
    "\n",
    "        # Run the simulation\n",
    "        stream, prog = gen.run(prog_w0=prog_w0, prog_mass=prog_mass, nbody=perturber, \n",
    "                               release_every=5, n_particles=1, \n",
    "                               output_every=True, output_filename=f'snapshot_files/snapshots_UsingFulldt_{i}', \n",
    "                               check_filesize=True, overwrite=True, \n",
    "                               progress=False, t1 = dt_array[i], t2=dt_array[i+1], n_steps=n_steps[i])\n",
    "                                               #t2 is end , t1 is start t1=dt_array[i], t2=dt_array[i+1]\n",
    "        # Store the results\n",
    "        all_streams.append(stream)\n",
    "        all_progs.append(prog)\n",
    "        \n",
    "\n",
    "        current_prog_pos = prog.pos.xyz[:,0]  \n",
    "        current_prog_vel = prog.v_xyz[:,0] \n",
    "        current_perturber_pos = prog.pos.xyz[:,1] \n",
    "        current_perturber_vel = prog.v_xyz[:,1] \n",
    "    \n",
    "    return all_streams, all_progs\n",
    "\n",
    "\n",
    "## ISSUES : The dispersion of the particle is not saved, only the progenitor location is saved, so when movie is restarted, it assumes the stream is less disrupted. \n",
    "#progenitor is taking the position of the DM subhalo, so it is not being updated.\n",
    "## ISSUES : The \n",
    "\n",
    "# Run the simulation with restarts\n",
    "all_streams, all_progs = run_simulation_with_restarts(prog_w0, prog_mass, perturber, H, prog_pot, dt_array, orbit_min_indices, n_steps_function)\n",
    "\n",
    "#takes almost two mins to run with previous conditions "
   ]
  },
  {
   "cell_type": "code",
   "execution_count": null,
   "id": "255f4455",
   "metadata": {},
   "outputs": [],
   "source": [
    "# Initialize lists to hold the compiled data from all snapshots\n",
    "all_prog_pos = []\n",
    "all_perturber_pos = []\n",
    "all_stream_pos = []\n",
    "all_time_data = []\n",
    "\n",
    "# Iterate over the snapshot files generated\n",
    "for i in range(len(orbit_min_indices)):  # Replace with actual snapshot count if known\n",
    "    snapshot_file = f'snapshot_files/snapshots_{i}'\n",
    "    \n",
    "    with h5py.File(snapshot_file, 'r') as f:\n",
    "        # Load the positions and time data for each snapshot\n",
    "        prog_pos = f['nbody/pos'][:, :, 0]\n",
    "        perturber_pos = f['nbody/pos'][:, :, 1]\n",
    "        stream_pos = f['stream/pos'][:]\n",
    "        time_data = f['nbody/time'][:]\n",
    "        \n",
    "        # Append data from this snapshot to the lists\n",
    "        all_prog_pos.append(prog_pos)\n",
    "        all_perturber_pos.append(perturber_pos)\n",
    "        all_stream_pos.append(stream_pos)\n",
    "        all_time_data.append(time_data)\n",
    "\n",
    "# Concatenate all the data along the time axis\n",
    "all_prog_pos = np.concatenate(all_prog_pos, axis=1)\n",
    "all_perturber_pos = np.concatenate(all_perturber_pos, axis=1)\n",
    "all_stream_pos = np.concatenate(all_stream_pos, axis=1)\n",
    "all_time_data = np.concatenate(all_time_data)\n",
    "\n",
    "# Create the figure for the animation\n",
    "fig, ax = plt.subplots()\n",
    "\n",
    "# Initialize scatter plots for progenitor, perturber, and stream\n",
    "prog_scatter = ax.scatter([], [], color='steelblue', s=10, alpha=1, label='Progenitor')\n",
    "perturber_scatter = ax.scatter([], [], color='black', s=10, alpha=1, label='DM Subhalo')\n",
    "stream_scatter = ax.scatter([], [], color='steelblue', s=1, alpha=0.5)\n",
    "\n",
    "# Set plot labels and aspect ratio\n",
    "ax.set_xlabel(r'$x\\ ({\\rm kpc})$')\n",
    "ax.set_ylabel(r'$y\\ ({\\rm kpc})$')\n",
    "ax.set_aspect(1)\n",
    "ax.legend(loc='lower left')\n",
    "\n",
    "# Set the limits for the x and y axes\n",
    "ax.set_xlim(-50, 70)\n",
    "ax.set_ylim(-50, 50)\n",
    "\n",
    "# Update function for each frame in the animation\n",
    "def update(frame):\n",
    "    # Update scatter points for progenitor, perturber, and stream\n",
    "    prog_scatter.set_offsets(all_prog_pos[:2, frame].T)\n",
    "    perturber_scatter.set_offsets(all_perturber_pos[:2, frame].T)\n",
    "    stream_scatter.set_offsets(all_stream_pos[:2, frame].T)\n",
    "    \n",
    "    # Update the title with the current time\n",
    "    ax.set_title(f\"Time: {all_time_data[frame]:.2f} Myr\")\n",
    "\n",
    "# Create the animation\n",
    "ani = FuncAnimation(fig, update, frames=len(all_time_data), interval=50)\n",
    "\n",
    "# Save the animation as a video file\n",
    "ani.save('movies/compiled_simulation_with_perturber.mp4', writer='ffmpeg')\n",
    "\n",
    "# Show the plot\n",
    "plt.show()\n",
    "\n",
    "\n",
    "#Takes almost 3 minutes to run "
   ]
  },
  {
   "cell_type": "markdown",
   "id": "72f755b6-bc3f-4591-90a1-6511c1513ae1",
   "metadata": {},
   "source": [
    "#\n",
    "#\n",
    "#\n",
    "#\n",
    "#\n",
    "#\n",
    "#\n",
    "#"
   ]
  },
  {
   "cell_type": "code",
   "execution_count": null,
   "id": "5e6a11db-a7e3-4f1a-b5d6-173ac32986bf",
   "metadata": {},
   "outputs": [],
   "source": []
  }
 ],
 "metadata": {
  "kernelspec": {
   "display_name": "base",
   "language": "python",
   "name": "python3"
  },
  "language_info": {
   "codemirror_mode": {
    "name": "ipython",
    "version": 3
   },
   "file_extension": ".py",
   "mimetype": "text/x-python",
   "name": "python",
   "nbconvert_exporter": "python",
   "pygments_lexer": "ipython3",
   "version": "3.12.4"
  }
 },
 "nbformat": 4,
 "nbformat_minor": 5
}
